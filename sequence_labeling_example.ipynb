{
 "cells": [
  {
   "cell_type": "code",
   "execution_count": 1,
   "metadata": {},
   "outputs": [],
   "source": [
    "import tensorflow as tf\n",
    "import numpy as np"
   ]
  },
  {
   "cell_type": "code",
   "execution_count": 2,
   "metadata": {},
   "outputs": [],
   "source": [
    "import os\n",
    "logdir = 'log'\n",
    "\n",
    "def write_graph(name):\n",
    "    file_writer = tf.summary.FileWriter(os.path.join(logdir, name))\n",
    "    with tf.Session() as sess:\n",
    "        file_writer.add_graph(sess.graph)\n",
    "    file_writer.close()"
   ]
  },
  {
   "cell_type": "code",
   "execution_count": 3,
   "metadata": {},
   "outputs": [],
   "source": [
    "n_classes = 10\n",
    "num_layers = 2\n",
    "state_size = 25\n",
    "keep_prob = 0.5\n",
    "vocab_size = 1000\n",
    "embedding_size = 150\n",
    "embedding_vectors = np.random.rand(vocab_size, embedding_size).astype(np.float32)"
   ]
  },
  {
   "cell_type": "markdown",
   "metadata": {},
   "source": [
    "# Inputs and embeddings"
   ]
  },
  {
   "cell_type": "code",
   "execution_count": 4,
   "metadata": {},
   "outputs": [],
   "source": [
    "x = tf.placeholder(tf.int32, [None, None], name='x')\n",
    "seqlen = tf.placeholder(tf.int32, [None], name='seqlen')\n",
    "\n",
    "W = tf.Variable(\n",
    "        embedding_vectors,\n",
    "        trainable=False,\n",
    "        name=\"word_embeddings\")\n",
    "rnn_inputs = tf.nn.embedding_lookup(W, x)\n",
    "\n",
    "write_graph(\"step_1\")"
   ]
  },
  {
   "cell_type": "markdown",
   "metadata": {},
   "source": [
    "# LSTM sequence labeling"
   ]
  },
  {
   "cell_type": "markdown",
   "metadata": {},
   "source": [
    "## Defining the LSTM cell"
   ]
  },
  {
   "cell_type": "code",
   "execution_count": 5,
   "metadata": {},
   "outputs": [],
   "source": [
    "def lstm_cell_with_dropout(state_size, keep_prob):\n",
    "    cell = tf.contrib.rnn.BasicLSTMCell(state_size)\n",
    "    cell = tf.contrib.rnn.DropoutWrapper(\n",
    "        cell,\n",
    "        output_keep_prob=keep_prob,\n",
    "        state_keep_prob=keep_prob,\n",
    "        variational_recurrent=True,\n",
    "        dtype=tf.float32)\n",
    "    return cell"
   ]
  },
  {
   "cell_type": "markdown",
   "metadata": {},
   "source": [
    "## Creating a bidirectional LSTM layer"
   ]
  },
  {
   "cell_type": "code",
   "execution_count": 10,
   "metadata": {},
   "outputs": [],
   "source": [
    "def blstm_layer_with_dropout(inputs, seqlen, state_size, keep_prob, scope):\n",
    "    cell = lstm_cell_with_dropout(state_size, keep_prob)\n",
    "    (output_fw, output_bw), _ = tf.nn.bidirectional_dynamic_rnn(\n",
    "        cell,\n",
    "        cell,\n",
    "        inputs,\n",
    "        sequence_length=seqlen,\n",
    "        dtype=tf.float32,\n",
    "        scope=scope)\n",
    "    return tf.concat([output_fw, output_bw], axis=-1, name=\"blstm_output\")"
   ]
  },
  {
   "cell_type": "code",
   "execution_count": 7,
   "metadata": {},
   "outputs": [],
   "source": [
    "for i in range(num_layers):\n",
    "    with tf.name_scope(\"BLSTM-{}\".format(i)) as scope:\n",
    "        rnn_inputs = blstm_layer_with_dropout(\n",
    "            rnn_inputs, seqlen, state_size, keep_prob, scope)\n",
    "            \n",
    "write_graph(\"step_2\")"
   ]
  },
  {
   "cell_type": "markdown",
   "metadata": {},
   "source": [
    "# Predictions"
   ]
  },
  {
   "cell_type": "code",
   "execution_count": 8,
   "metadata": {},
   "outputs": [],
   "source": [
    "max_length = tf.shape(x)[1]\n",
    "\n",
    "with tf.name_scope('logits'):\n",
    "    logit_inputs = tf.reshape(rnn_inputs, [-1, 2 * state_size])\n",
    "    logits = tf.layers.dense(logit_inputs, n_classes)\n",
    "    logits = tf.reshape(logits, [-1, max_length, n_classes])\n",
    "\n",
    "with tf.name_scope('predictions'):\n",
    "    predictions = tf.argmax(logits, axis=-1, output_type=tf.int32)\n",
    "\n",
    "write_graph(\"step_3\")"
   ]
  },
  {
   "cell_type": "markdown",
   "metadata": {},
   "source": [
    "# Training"
   ]
  },
  {
   "cell_type": "code",
   "execution_count": 9,
   "metadata": {},
   "outputs": [
    {
     "name": "stderr",
     "output_type": "stream",
     "text": [
      "/srv/devel/cvanweelden/anaconda3/envs/polyglot/lib/python3.5/site-packages/tensorflow-1.6.0-py3.5-linux-x86_64.egg/tensorflow/python/ops/gradients_impl.py:98: UserWarning: Converting sparse IndexedSlices to a dense Tensor of unknown shape. This may consume a large amount of memory.\n",
      "  \"Converting sparse IndexedSlices to a dense Tensor of unknown shape. \"\n"
     ]
    }
   ],
   "source": [
    "labels = tf.placeholder(tf.int32, [None, None], name='labels')\n",
    "\n",
    "with tf.name_scope('loss'):\n",
    "    seqlen_mask = tf.sequence_mask(\n",
    "            seqlen, maxlen=max_length, name='sequence_mask')\n",
    "    loss = tf.nn.sparse_softmax_cross_entropy_with_logits(\n",
    "            labels=labels, logits=logits, name=\"cross_entropy\")\n",
    "    loss = tf.boolean_mask(loss, seqlen_mask)\n",
    "    loss = tf.reduce_mean(loss, name=\"mean_loss\")\n",
    "\n",
    "with tf.name_scope('training'):\n",
    "    #constant\n",
    "    train_step = tf.train.AdamOptimizer(3e-4).minimize(loss)\n",
    "    \n",
    "write_graph(\"step_4\")"
   ]
  },
  {
   "cell_type": "code",
   "execution_count": null,
   "metadata": {},
   "outputs": [],
   "source": []
  }
 ],
 "metadata": {
  "kernelspec": {
   "display_name": "Python 3",
   "language": "python",
   "name": "python3"
  },
  "language_info": {
   "codemirror_mode": {
    "name": "ipython",
    "version": 3
   },
   "file_extension": ".py",
   "mimetype": "text/x-python",
   "name": "python",
   "nbconvert_exporter": "python",
   "pygments_lexer": "ipython3",
   "version": "3.5.5"
  }
 },
 "nbformat": 4,
 "nbformat_minor": 2
}
